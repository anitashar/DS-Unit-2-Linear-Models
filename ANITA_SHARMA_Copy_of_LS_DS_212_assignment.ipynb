{
  "nbformat": 4,
  "nbformat_minor": 0,
  "metadata": {
    "kernelspec": {
      "display_name": "Python 3",
      "language": "python",
      "name": "python3"
    },
    "language_info": {
      "codemirror_mode": {
        "name": "ipython",
        "version": 3
      },
      "file_extension": ".py",
      "mimetype": "text/x-python",
      "name": "python",
      "nbconvert_exporter": "python",
      "pygments_lexer": "ipython3",
      "version": "3.7.3"
    },
    "colab": {
      "name": "ANITA_SHARMA_Copy of LS_DS_212_assignment.ipynb",
      "provenance": [],
      "collapsed_sections": [],
      "include_colab_link": true
    }
  },
  "cells": [
    {
      "cell_type": "markdown",
      "metadata": {
        "id": "view-in-github",
        "colab_type": "text"
      },
      "source": [
        "<a href=\"https://colab.research.google.com/github/anitashar/DS-Unit-2-Linear-Models/blob/master/ANITA_SHARMA_Copy_of_LS_DS_212_assignment.ipynb\" target=\"_parent\"><img src=\"https://colab.research.google.com/assets/colab-badge.svg\" alt=\"Open In Colab\"/></a>"
      ]
    },
    {
      "cell_type": "markdown",
      "metadata": {
        "id": "WnHOkh8Ptqd1",
        "colab_type": "text"
      },
      "source": [
        "Lambda School Data Science\n",
        "\n",
        "*Unit 2, Sprint 1, Module 2*\n",
        "\n",
        "---"
      ]
    },
    {
      "cell_type": "markdown",
      "metadata": {
        "colab_type": "text",
        "id": "7IXUfiQ2UKj6"
      },
      "source": [
        "# Regression 2\n",
        "\n",
        "## Assignment\n",
        "\n",
        "You'll continue to **predict how much it costs to rent an apartment in NYC,** using the dataset from renthop.com.\n",
        "\n",
        "- [ ] Do train/test split. Use data from April & May 2016 to train. Use data from June 2016 to test.\n",
        "- [ ] Engineer at least two new features. (See below for explanation & ideas.)\n",
        "- [ ] Fit a linear regression model with at least two features.\n",
        "- [ ] Get the model's coefficients and intercept.\n",
        "- [ ] Get regression metrics RMSE, MAE, and $R^2$, for both the train and test data.\n",
        "- [ ] What's the best test MAE you can get? Share your score and features used with your cohort on Slack!\n",
        "- [ ] As always, commit your notebook to your fork of the GitHub repo.\n",
        "\n",
        "\n",
        "#### [Feature Engineering](https://en.wikipedia.org/wiki/Feature_engineering)\n",
        "\n",
        "> \"Some machine learning projects succeed and some fail. What makes the difference? Easily the most important factor is the features used.\" — Pedro Domingos, [\"A Few Useful Things to Know about Machine Learning\"](https://homes.cs.washington.edu/~pedrod/papers/cacm12.pdf)\n",
        "\n",
        "> \"Coming up with features is difficult, time-consuming, requires expert knowledge. 'Applied machine learning' is basically feature engineering.\" — Andrew Ng, [Machine Learning and AI via Brain simulations](https://forum.stanford.edu/events/2011/2011slides/plenary/2011plenaryNg.pdf) \n",
        "\n",
        "> Feature engineering is the process of using domain knowledge of the data to create features that make machine learning algorithms work. \n",
        "\n",
        "#### Feature Ideas\n",
        "- Does the apartment have a description?\n",
        "- How long is the description?\n",
        "- How many total perks does each apartment have?\n",
        "- Are cats _or_ dogs allowed?\n",
        "- Are cats _and_ dogs allowed?\n",
        "- Total number of rooms (beds + baths)\n",
        "- Ratio of beds to baths\n",
        "- What's the neighborhood, based on address or latitude & longitude?\n",
        "\n",
        "## Stretch Goals\n",
        "- [ ] If you want more math, skim [_An Introduction to Statistical Learning_](http://faculty.marshall.usc.edu/gareth-james/ISL/ISLR%20Seventh%20Printing.pdf),  Chapter 3.1, Simple Linear Regression, & Chapter 3.2, Multiple Linear Regression\n",
        "- [ ] If you want more introduction, watch [Brandon Foltz, Statistics 101: Simple Linear Regression](https://www.youtube.com/watch?v=ZkjP5RJLQF4)\n",
        "(20 minutes, over 1 million views)\n",
        "- [ ] Add your own stretch goal(s) !"
      ]
    },
    {
      "cell_type": "code",
      "metadata": {
        "colab_type": "code",
        "id": "o9eSnDYhUGD7",
        "colab": {}
      },
      "source": [
        "%%capture\n",
        "import sys\n",
        "\n",
        "# If you're on Colab:\n",
        "if 'google.colab' in sys.modules:\n",
        "    DATA_PATH = 'https://raw.githubusercontent.com/LambdaSchool/DS-Unit-2-Applied-Modeling/master/data/'\n",
        "    !pip install category_encoders==2.*\n",
        "\n",
        "# If you're working locally:\n",
        "else:\n",
        "    DATA_PATH = '../data/'\n",
        "    \n",
        "# Ignore this Numpy warning when using Plotly Express:\n",
        "# FutureWarning: Method .ptp is deprecated and will be removed in a future version. Use numpy.ptp instead.\n",
        "import warnings\n",
        "warnings.filterwarnings(action='ignore', category=FutureWarning, module='numpy')"
      ],
      "execution_count": 0,
      "outputs": []
    },
    {
      "cell_type": "code",
      "metadata": {
        "colab_type": "code",
        "id": "cvrw-T3bZOuW",
        "colab": {}
      },
      "source": [
        "import numpy as np\n",
        "import pandas as pd\n",
        "\n",
        "# Read New York City apartment rental listing data\n",
        "df = pd.read_csv(DATA_PATH+'apartments/renthop-nyc.csv')\n",
        "assert df.shape == (49352, 34)\n",
        "\n",
        "# Remove the most extreme 1% prices,\n",
        "# the most extreme .1% latitudes, &\n",
        "# the most extreme .1% longitudes\n",
        "df = df[(df['price'] >= np.percentile(df['price'], 0.5)) & \n",
        "        (df['price'] <= np.percentile(df['price'], 99.5)) & \n",
        "        (df['latitude'] >= np.percentile(df['latitude'], 0.05)) & \n",
        "        (df['latitude'] < np.percentile(df['latitude'], 99.95)) &\n",
        "        (df['longitude'] >= np.percentile(df['longitude'], 0.05)) & \n",
        "        (df['longitude'] <= np.percentile(df['longitude'], 99.95))]"
      ],
      "execution_count": 0,
      "outputs": []
    },
    {
      "cell_type": "code",
      "metadata": {
        "id": "eng1ZUrYZiNX",
        "colab_type": "code",
        "outputId": "ab799118-7e9c-40fe-f4ae-df12026f2e9f",
        "colab": {
          "base_uri": "https://localhost:8080/",
          "height": 530
        }
      },
      "source": [
        "#  check the data\n",
        "print(df.shape)\n",
        "df.head()"
      ],
      "execution_count": 3,
      "outputs": [
        {
          "output_type": "stream",
          "text": [
            "(48817, 34)\n"
          ],
          "name": "stdout"
        },
        {
          "output_type": "execute_result",
          "data": {
            "text/html": [
              "<div>\n",
              "<style scoped>\n",
              "    .dataframe tbody tr th:only-of-type {\n",
              "        vertical-align: middle;\n",
              "    }\n",
              "\n",
              "    .dataframe tbody tr th {\n",
              "        vertical-align: top;\n",
              "    }\n",
              "\n",
              "    .dataframe thead th {\n",
              "        text-align: right;\n",
              "    }\n",
              "</style>\n",
              "<table border=\"1\" class=\"dataframe\">\n",
              "  <thead>\n",
              "    <tr style=\"text-align: right;\">\n",
              "      <th></th>\n",
              "      <th>bathrooms</th>\n",
              "      <th>bedrooms</th>\n",
              "      <th>created</th>\n",
              "      <th>description</th>\n",
              "      <th>display_address</th>\n",
              "      <th>latitude</th>\n",
              "      <th>longitude</th>\n",
              "      <th>price</th>\n",
              "      <th>street_address</th>\n",
              "      <th>interest_level</th>\n",
              "      <th>elevator</th>\n",
              "      <th>cats_allowed</th>\n",
              "      <th>hardwood_floors</th>\n",
              "      <th>dogs_allowed</th>\n",
              "      <th>doorman</th>\n",
              "      <th>dishwasher</th>\n",
              "      <th>no_fee</th>\n",
              "      <th>laundry_in_building</th>\n",
              "      <th>fitness_center</th>\n",
              "      <th>pre-war</th>\n",
              "      <th>laundry_in_unit</th>\n",
              "      <th>roof_deck</th>\n",
              "      <th>outdoor_space</th>\n",
              "      <th>dining_room</th>\n",
              "      <th>high_speed_internet</th>\n",
              "      <th>balcony</th>\n",
              "      <th>swimming_pool</th>\n",
              "      <th>new_construction</th>\n",
              "      <th>terrace</th>\n",
              "      <th>exclusive</th>\n",
              "      <th>loft</th>\n",
              "      <th>garden_patio</th>\n",
              "      <th>wheelchair_access</th>\n",
              "      <th>common_outdoor_space</th>\n",
              "    </tr>\n",
              "  </thead>\n",
              "  <tbody>\n",
              "    <tr>\n",
              "      <th>0</th>\n",
              "      <td>1.5</td>\n",
              "      <td>3</td>\n",
              "      <td>2016-06-24 07:54:24</td>\n",
              "      <td>A Brand New 3 Bedroom 1.5 bath ApartmentEnjoy ...</td>\n",
              "      <td>Metropolitan Avenue</td>\n",
              "      <td>40.7145</td>\n",
              "      <td>-73.9425</td>\n",
              "      <td>3000</td>\n",
              "      <td>792 Metropolitan Avenue</td>\n",
              "      <td>medium</td>\n",
              "      <td>0</td>\n",
              "      <td>0</td>\n",
              "      <td>0</td>\n",
              "      <td>0</td>\n",
              "      <td>0</td>\n",
              "      <td>0</td>\n",
              "      <td>0</td>\n",
              "      <td>0</td>\n",
              "      <td>0</td>\n",
              "      <td>0</td>\n",
              "      <td>0</td>\n",
              "      <td>0</td>\n",
              "      <td>0</td>\n",
              "      <td>0</td>\n",
              "      <td>0</td>\n",
              "      <td>0</td>\n",
              "      <td>0</td>\n",
              "      <td>0</td>\n",
              "      <td>0</td>\n",
              "      <td>0</td>\n",
              "      <td>0</td>\n",
              "      <td>0</td>\n",
              "      <td>0</td>\n",
              "      <td>0</td>\n",
              "    </tr>\n",
              "    <tr>\n",
              "      <th>1</th>\n",
              "      <td>1.0</td>\n",
              "      <td>2</td>\n",
              "      <td>2016-06-12 12:19:27</td>\n",
              "      <td></td>\n",
              "      <td>Columbus Avenue</td>\n",
              "      <td>40.7947</td>\n",
              "      <td>-73.9667</td>\n",
              "      <td>5465</td>\n",
              "      <td>808 Columbus Avenue</td>\n",
              "      <td>low</td>\n",
              "      <td>1</td>\n",
              "      <td>1</td>\n",
              "      <td>0</td>\n",
              "      <td>1</td>\n",
              "      <td>1</td>\n",
              "      <td>0</td>\n",
              "      <td>0</td>\n",
              "      <td>0</td>\n",
              "      <td>1</td>\n",
              "      <td>0</td>\n",
              "      <td>0</td>\n",
              "      <td>0</td>\n",
              "      <td>0</td>\n",
              "      <td>0</td>\n",
              "      <td>0</td>\n",
              "      <td>0</td>\n",
              "      <td>0</td>\n",
              "      <td>0</td>\n",
              "      <td>0</td>\n",
              "      <td>0</td>\n",
              "      <td>0</td>\n",
              "      <td>0</td>\n",
              "      <td>0</td>\n",
              "      <td>0</td>\n",
              "    </tr>\n",
              "    <tr>\n",
              "      <th>2</th>\n",
              "      <td>1.0</td>\n",
              "      <td>1</td>\n",
              "      <td>2016-04-17 03:26:41</td>\n",
              "      <td>Top Top West Village location, beautiful Pre-w...</td>\n",
              "      <td>W 13 Street</td>\n",
              "      <td>40.7388</td>\n",
              "      <td>-74.0018</td>\n",
              "      <td>2850</td>\n",
              "      <td>241 W 13 Street</td>\n",
              "      <td>high</td>\n",
              "      <td>0</td>\n",
              "      <td>0</td>\n",
              "      <td>1</td>\n",
              "      <td>0</td>\n",
              "      <td>0</td>\n",
              "      <td>1</td>\n",
              "      <td>0</td>\n",
              "      <td>1</td>\n",
              "      <td>0</td>\n",
              "      <td>0</td>\n",
              "      <td>0</td>\n",
              "      <td>0</td>\n",
              "      <td>0</td>\n",
              "      <td>0</td>\n",
              "      <td>0</td>\n",
              "      <td>0</td>\n",
              "      <td>0</td>\n",
              "      <td>0</td>\n",
              "      <td>0</td>\n",
              "      <td>0</td>\n",
              "      <td>0</td>\n",
              "      <td>0</td>\n",
              "      <td>0</td>\n",
              "      <td>0</td>\n",
              "    </tr>\n",
              "    <tr>\n",
              "      <th>3</th>\n",
              "      <td>1.0</td>\n",
              "      <td>1</td>\n",
              "      <td>2016-04-18 02:22:02</td>\n",
              "      <td>Building Amenities - Garage - Garden - fitness...</td>\n",
              "      <td>East 49th Street</td>\n",
              "      <td>40.7539</td>\n",
              "      <td>-73.9677</td>\n",
              "      <td>3275</td>\n",
              "      <td>333 East 49th Street</td>\n",
              "      <td>low</td>\n",
              "      <td>0</td>\n",
              "      <td>0</td>\n",
              "      <td>1</td>\n",
              "      <td>0</td>\n",
              "      <td>0</td>\n",
              "      <td>0</td>\n",
              "      <td>1</td>\n",
              "      <td>0</td>\n",
              "      <td>0</td>\n",
              "      <td>0</td>\n",
              "      <td>0</td>\n",
              "      <td>0</td>\n",
              "      <td>0</td>\n",
              "      <td>0</td>\n",
              "      <td>0</td>\n",
              "      <td>0</td>\n",
              "      <td>0</td>\n",
              "      <td>0</td>\n",
              "      <td>0</td>\n",
              "      <td>0</td>\n",
              "      <td>0</td>\n",
              "      <td>0</td>\n",
              "      <td>0</td>\n",
              "      <td>0</td>\n",
              "    </tr>\n",
              "    <tr>\n",
              "      <th>4</th>\n",
              "      <td>1.0</td>\n",
              "      <td>4</td>\n",
              "      <td>2016-04-28 01:32:41</td>\n",
              "      <td>Beautifully renovated 3 bedroom flex 4 bedroom...</td>\n",
              "      <td>West 143rd Street</td>\n",
              "      <td>40.8241</td>\n",
              "      <td>-73.9493</td>\n",
              "      <td>3350</td>\n",
              "      <td>500 West 143rd Street</td>\n",
              "      <td>low</td>\n",
              "      <td>0</td>\n",
              "      <td>0</td>\n",
              "      <td>0</td>\n",
              "      <td>0</td>\n",
              "      <td>0</td>\n",
              "      <td>0</td>\n",
              "      <td>0</td>\n",
              "      <td>0</td>\n",
              "      <td>0</td>\n",
              "      <td>1</td>\n",
              "      <td>0</td>\n",
              "      <td>0</td>\n",
              "      <td>0</td>\n",
              "      <td>0</td>\n",
              "      <td>0</td>\n",
              "      <td>0</td>\n",
              "      <td>0</td>\n",
              "      <td>0</td>\n",
              "      <td>0</td>\n",
              "      <td>0</td>\n",
              "      <td>0</td>\n",
              "      <td>0</td>\n",
              "      <td>0</td>\n",
              "      <td>0</td>\n",
              "    </tr>\n",
              "  </tbody>\n",
              "</table>\n",
              "</div>"
            ],
            "text/plain": [
              "   bathrooms  bedrooms  ... wheelchair_access common_outdoor_space\n",
              "0        1.5         3  ...                 0                    0\n",
              "1        1.0         2  ...                 0                    0\n",
              "2        1.0         1  ...                 0                    0\n",
              "3        1.0         1  ...                 0                    0\n",
              "4        1.0         4  ...                 0                    0\n",
              "\n",
              "[5 rows x 34 columns]"
            ]
          },
          "metadata": {
            "tags": []
          },
          "execution_count": 3
        }
      ]
    },
    {
      "cell_type": "code",
      "metadata": {
        "id": "Q7Uro1XaZiZJ",
        "colab_type": "code",
        "outputId": "cf743847-f60c-40d9-949b-5de56ebef45f",
        "colab": {
          "base_uri": "https://localhost:8080/",
          "height": 612
        }
      },
      "source": [
        "# find missing values\n",
        "df.isnull().sum()\n",
        "\n",
        "\n"
      ],
      "execution_count": 4,
      "outputs": [
        {
          "output_type": "execute_result",
          "data": {
            "text/plain": [
              "bathrooms                  0\n",
              "bedrooms                   0\n",
              "created                    0\n",
              "description             1425\n",
              "display_address          133\n",
              "latitude                   0\n",
              "longitude                  0\n",
              "price                      0\n",
              "street_address            10\n",
              "interest_level             0\n",
              "elevator                   0\n",
              "cats_allowed               0\n",
              "hardwood_floors            0\n",
              "dogs_allowed               0\n",
              "doorman                    0\n",
              "dishwasher                 0\n",
              "no_fee                     0\n",
              "laundry_in_building        0\n",
              "fitness_center             0\n",
              "pre-war                    0\n",
              "laundry_in_unit            0\n",
              "roof_deck                  0\n",
              "outdoor_space              0\n",
              "dining_room                0\n",
              "high_speed_internet        0\n",
              "balcony                    0\n",
              "swimming_pool              0\n",
              "new_construction           0\n",
              "terrace                    0\n",
              "exclusive                  0\n",
              "loft                       0\n",
              "garden_patio               0\n",
              "wheelchair_access          0\n",
              "common_outdoor_space       0\n",
              "dtype: int64"
            ]
          },
          "metadata": {
            "tags": []
          },
          "execution_count": 4
        }
      ]
    },
    {
      "cell_type": "markdown",
      "metadata": {
        "id": "Sd954s-i0od8",
        "colab_type": "text"
      },
      "source": [
        "# **Feature engineering**"
      ]
    },
    {
      "cell_type": "code",
      "metadata": {
        "id": "Mnki2vA5Zigt",
        "colab_type": "code",
        "colab": {
          "base_uri": "https://localhost:8080/",
          "height": 34
        },
        "outputId": "438b66a8-7652-4ff6-8b66-300f7c0732c2"
      },
      "source": [
        "#  check the datatype\n",
        "df['created'].dtypes"
      ],
      "execution_count": 5,
      "outputs": [
        {
          "output_type": "execute_result",
          "data": {
            "text/plain": [
              "dtype('O')"
            ]
          },
          "metadata": {
            "tags": []
          },
          "execution_count": 5
        }
      ]
    },
    {
      "cell_type": "code",
      "metadata": {
        "id": "OxFV6QsmZile",
        "colab_type": "code",
        "colab": {
          "base_uri": "https://localhost:8080/",
          "height": 34
        },
        "outputId": "c36d8cfc-d009-4b54-e020-fa1feaabfef4"
      },
      "source": [
        "# convert the the date column from object type to date type\n",
        "df['created']=pd.to_datetime(df['created'])\n",
        "\n",
        "# check the date type again for this column\n",
        "df['created'].dtypes"
      ],
      "execution_count": 6,
      "outputs": [
        {
          "output_type": "execute_result",
          "data": {
            "text/plain": [
              "dtype('<M8[ns]')"
            ]
          },
          "metadata": {
            "tags": []
          },
          "execution_count": 6
        }
      ]
    },
    {
      "cell_type": "code",
      "metadata": {
        "id": "9H2nSJT9Ziqb",
        "colab_type": "code",
        "colab": {}
      },
      "source": [
        "# create a month column\n",
        "df['month']=df['created'].dt.month"
      ],
      "execution_count": 0,
      "outputs": []
    },
    {
      "cell_type": "code",
      "metadata": {
        "id": "d8PC5J_eZiyO",
        "colab_type": "code",
        "colab": {
          "base_uri": "https://localhost:8080/",
          "height": 85
        },
        "outputId": "d094f586-20eb-47cf-8f46-60e67b031cab"
      },
      "source": [
        "# get the unique values for the month column\n",
        "# pd.unique(df[‘month’])\n",
        "df['month'].value_counts()"
      ],
      "execution_count": 8,
      "outputs": [
        {
          "output_type": "execute_result",
          "data": {
            "text/plain": [
              "6    16973\n",
              "4    16217\n",
              "5    15627\n",
              "Name: month, dtype: int64"
            ]
          },
          "metadata": {
            "tags": []
          },
          "execution_count": 8
        }
      ]
    },
    {
      "cell_type": "code",
      "metadata": {
        "id": "n_qFNgfnlC4C",
        "colab_type": "code",
        "colab": {
          "base_uri": "https://localhost:8080/",
          "height": 419
        },
        "outputId": "05568e7c-d25e-4ad3-8576-0c8c0fb64593"
      },
      "source": [
        "# see both the columns\n",
        "df[['created','month']]"
      ],
      "execution_count": 9,
      "outputs": [
        {
          "output_type": "execute_result",
          "data": {
            "text/html": [
              "<div>\n",
              "<style scoped>\n",
              "    .dataframe tbody tr th:only-of-type {\n",
              "        vertical-align: middle;\n",
              "    }\n",
              "\n",
              "    .dataframe tbody tr th {\n",
              "        vertical-align: top;\n",
              "    }\n",
              "\n",
              "    .dataframe thead th {\n",
              "        text-align: right;\n",
              "    }\n",
              "</style>\n",
              "<table border=\"1\" class=\"dataframe\">\n",
              "  <thead>\n",
              "    <tr style=\"text-align: right;\">\n",
              "      <th></th>\n",
              "      <th>created</th>\n",
              "      <th>month</th>\n",
              "    </tr>\n",
              "  </thead>\n",
              "  <tbody>\n",
              "    <tr>\n",
              "      <th>0</th>\n",
              "      <td>2016-06-24 07:54:24</td>\n",
              "      <td>6</td>\n",
              "    </tr>\n",
              "    <tr>\n",
              "      <th>1</th>\n",
              "      <td>2016-06-12 12:19:27</td>\n",
              "      <td>6</td>\n",
              "    </tr>\n",
              "    <tr>\n",
              "      <th>2</th>\n",
              "      <td>2016-04-17 03:26:41</td>\n",
              "      <td>4</td>\n",
              "    </tr>\n",
              "    <tr>\n",
              "      <th>3</th>\n",
              "      <td>2016-04-18 02:22:02</td>\n",
              "      <td>4</td>\n",
              "    </tr>\n",
              "    <tr>\n",
              "      <th>4</th>\n",
              "      <td>2016-04-28 01:32:41</td>\n",
              "      <td>4</td>\n",
              "    </tr>\n",
              "    <tr>\n",
              "      <th>...</th>\n",
              "      <td>...</td>\n",
              "      <td>...</td>\n",
              "    </tr>\n",
              "    <tr>\n",
              "      <th>49347</th>\n",
              "      <td>2016-06-02 05:41:05</td>\n",
              "      <td>6</td>\n",
              "    </tr>\n",
              "    <tr>\n",
              "      <th>49348</th>\n",
              "      <td>2016-04-04 18:22:34</td>\n",
              "      <td>4</td>\n",
              "    </tr>\n",
              "    <tr>\n",
              "      <th>49349</th>\n",
              "      <td>2016-04-16 02:13:40</td>\n",
              "      <td>4</td>\n",
              "    </tr>\n",
              "    <tr>\n",
              "      <th>49350</th>\n",
              "      <td>2016-04-08 02:13:33</td>\n",
              "      <td>4</td>\n",
              "    </tr>\n",
              "    <tr>\n",
              "      <th>49351</th>\n",
              "      <td>2016-04-12 02:48:07</td>\n",
              "      <td>4</td>\n",
              "    </tr>\n",
              "  </tbody>\n",
              "</table>\n",
              "<p>48817 rows × 2 columns</p>\n",
              "</div>"
            ],
            "text/plain": [
              "                  created  month\n",
              "0     2016-06-24 07:54:24      6\n",
              "1     2016-06-12 12:19:27      6\n",
              "2     2016-04-17 03:26:41      4\n",
              "3     2016-04-18 02:22:02      4\n",
              "4     2016-04-28 01:32:41      4\n",
              "...                   ...    ...\n",
              "49347 2016-06-02 05:41:05      6\n",
              "49348 2016-04-04 18:22:34      4\n",
              "49349 2016-04-16 02:13:40      4\n",
              "49350 2016-04-08 02:13:33      4\n",
              "49351 2016-04-12 02:48:07      4\n",
              "\n",
              "[48817 rows x 2 columns]"
            ]
          },
          "metadata": {
            "tags": []
          },
          "execution_count": 9
        }
      ]
    },
    {
      "cell_type": "code",
      "metadata": {
        "id": "U2wgB1XMlDmm",
        "colab_type": "code",
        "colab": {
          "base_uri": "https://localhost:8080/",
          "height": 34
        },
        "outputId": "3a40a97f-33bd-4329-8c66-2f3f98bb19ab"
      },
      "source": [
        "#check years in the dataset\n",
        "pd.unique(df['created'].dt.year)"
      ],
      "execution_count": 10,
      "outputs": [
        {
          "output_type": "execute_result",
          "data": {
            "text/plain": [
              "array([2016])"
            ]
          },
          "metadata": {
            "tags": []
          },
          "execution_count": 10
        }
      ]
    },
    {
      "cell_type": "code",
      "metadata": {
        "id": "hdahcht4ZjG9",
        "colab_type": "code",
        "colab": {
          "base_uri": "https://localhost:8080/",
          "height": 51
        },
        "outputId": "2aa6d739-e8f8-451f-e29c-a96e2d30f877"
      },
      "source": [
        "# check datatypes of bedrooms\n",
        "print(df['bedrooms'].dtypes)\n",
        "# convert int to float & check again datatypes of bedrooms\n",
        "df['bedrooms'] = df['bedrooms'].astype(float)\n",
        "df['bedrooms'].dtypes"
      ],
      "execution_count": 11,
      "outputs": [
        {
          "output_type": "stream",
          "text": [
            "int64\n"
          ],
          "name": "stdout"
        },
        {
          "output_type": "execute_result",
          "data": {
            "text/plain": [
              "dtype('float64')"
            ]
          },
          "metadata": {
            "tags": []
          },
          "execution_count": 11
        }
      ]
    },
    {
      "cell_type": "code",
      "metadata": {
        "id": "Y0Pr246thgJg",
        "colab_type": "code",
        "colab": {
          "base_uri": "https://localhost:8080/",
          "height": 34
        },
        "outputId": "35d4fedd-b99f-4fd4-85dd-62a7fc1e10df"
      },
      "source": [
        "# datatypes of bathrooms\n",
        "df['bathrooms'].dtypes"
      ],
      "execution_count": 12,
      "outputs": [
        {
          "output_type": "execute_result",
          "data": {
            "text/plain": [
              "dtype('float64')"
            ]
          },
          "metadata": {
            "tags": []
          },
          "execution_count": 12
        }
      ]
    },
    {
      "cell_type": "code",
      "metadata": {
        "id": "pOoNeeOmhgdD",
        "colab_type": "code",
        "colab": {
          "base_uri": "https://localhost:8080/",
          "height": 221
        },
        "outputId": "ac4a4247-5132-4bf8-91c9-6d72f6b95090"
      },
      "source": [
        "#  create new column adding bedrooms & bathrooms\n",
        "df['rooms'] = df['bathrooms'] + df['bedrooms']\n",
        "df['rooms']\n"
      ],
      "execution_count": 13,
      "outputs": [
        {
          "output_type": "execute_result",
          "data": {
            "text/plain": [
              "0        4.5\n",
              "1        3.0\n",
              "2        2.0\n",
              "3        2.0\n",
              "4        5.0\n",
              "        ... \n",
              "49347    3.0\n",
              "49348    2.0\n",
              "49349    2.0\n",
              "49350    1.0\n",
              "49351    3.0\n",
              "Name: rooms, Length: 48817, dtype: float64"
            ]
          },
          "metadata": {
            "tags": []
          },
          "execution_count": 13
        }
      ]
    },
    {
      "cell_type": "code",
      "metadata": {
        "id": "51pcme4PhgjN",
        "colab_type": "code",
        "colab": {
          "base_uri": "https://localhost:8080/",
          "height": 187
        },
        "outputId": "50b0c0dd-c58a-44a7-d14a-b1430fe4d89a"
      },
      "source": [
        "#  check to see room column added to the df\n",
        "df.columns"
      ],
      "execution_count": 14,
      "outputs": [
        {
          "output_type": "execute_result",
          "data": {
            "text/plain": [
              "Index(['bathrooms', 'bedrooms', 'created', 'description', 'display_address',\n",
              "       'latitude', 'longitude', 'price', 'street_address', 'interest_level',\n",
              "       'elevator', 'cats_allowed', 'hardwood_floors', 'dogs_allowed',\n",
              "       'doorman', 'dishwasher', 'no_fee', 'laundry_in_building',\n",
              "       'fitness_center', 'pre-war', 'laundry_in_unit', 'roof_deck',\n",
              "       'outdoor_space', 'dining_room', 'high_speed_internet', 'balcony',\n",
              "       'swimming_pool', 'new_construction', 'terrace', 'exclusive', 'loft',\n",
              "       'garden_patio', 'wheelchair_access', 'common_outdoor_space', 'month',\n",
              "       'rooms'],\n",
              "      dtype='object')"
            ]
          },
          "metadata": {
            "tags": []
          },
          "execution_count": 14
        }
      ]
    },
    {
      "cell_type": "code",
      "metadata": {
        "id": "-DMTNzB8mjZQ",
        "colab_type": "code",
        "colab": {
          "base_uri": "https://localhost:8080/",
          "height": 170
        },
        "outputId": "71d7e358-d0d4-4317-afb4-339125cc8728"
      },
      "source": [
        "df['bathrooms'].describe()"
      ],
      "execution_count": 15,
      "outputs": [
        {
          "output_type": "execute_result",
          "data": {
            "text/plain": [
              "count    48817.000000\n",
              "mean         1.201794\n",
              "std          0.470711\n",
              "min          0.000000\n",
              "25%          1.000000\n",
              "50%          1.000000\n",
              "75%          1.000000\n",
              "max         10.000000\n",
              "Name: bathrooms, dtype: float64"
            ]
          },
          "metadata": {
            "tags": []
          },
          "execution_count": 15
        }
      ]
    },
    {
      "cell_type": "code",
      "metadata": {
        "id": "d2HJQ-v5mjl8",
        "colab_type": "code",
        "colab": {}
      },
      "source": [
        ""
      ],
      "execution_count": 0,
      "outputs": []
    },
    {
      "cell_type": "code",
      "metadata": {
        "id": "QldVW3ckhgr-",
        "colab_type": "code",
        "colab": {
          "base_uri": "https://localhost:8080/",
          "height": 221
        },
        "outputId": "57c46957-759f-4e6a-b348-f48fffa9a2a3"
      },
      "source": [
        "# ratio of bed to bath\n",
        "df['ratio']= df['bedrooms']/df['bathrooms']\n",
        "\n",
        "# check the column\n",
        "df['ratio'].sort_values(ascending=True)"
      ],
      "execution_count": 16,
      "outputs": [
        {
          "output_type": "execute_result",
          "data": {
            "text/plain": [
              "42673    0.0\n",
              "26729    0.0\n",
              "39392    0.0\n",
              "10388    0.0\n",
              "10389    0.0\n",
              "        ... \n",
              "46569    NaN\n",
              "46740    NaN\n",
              "46878    NaN\n",
              "47125    NaN\n",
              "48834    NaN\n",
              "Name: ratio, Length: 48817, dtype: float64"
            ]
          },
          "metadata": {
            "tags": []
          },
          "execution_count": 16
        }
      ]
    },
    {
      "cell_type": "code",
      "metadata": {
        "id": "wE1BiIzWMta7",
        "colab_type": "code",
        "colab": {}
      },
      "source": [
        "# replace NaN value,0 in the dataframe\n",
        "df['ratio'].replace(np.nan,  0, inplace = True)\n",
        "df['ratio'].replace(np.inf,  0, inplace = True)"
      ],
      "execution_count": 0,
      "outputs": []
    },
    {
      "cell_type": "code",
      "metadata": {
        "id": "5Fj7YQVJNAHd",
        "colab_type": "code",
        "colab": {
          "base_uri": "https://localhost:8080/",
          "height": 561
        },
        "outputId": "ca94716d-e397-431c-a9d5-1eb5053d1e1e"
      },
      "source": [
        "df['ratio'].value_counts()"
      ],
      "execution_count": 18,
      "outputs": [
        {
          "output_type": "execute_result",
          "data": {
            "text/plain": [
              "1.000000    19014\n",
              "2.000000    12240\n",
              "0.000000     9470\n",
              "3.000000     3603\n",
              "1.500000     2772\n",
              "4.000000      366\n",
              "1.333333      343\n",
              "0.500000      206\n",
              "0.666667      188\n",
              "2.500000      129\n",
              "1.200000      128\n",
              "0.800000       83\n",
              "2.666667       61\n",
              "1.600000       38\n",
              "1.666667       35\n",
              "1.250000       31\n",
              "1.142857       27\n",
              "0.857143       24\n",
              "0.333333       14\n",
              "0.750000       12\n",
              "5.000000       10\n",
              "0.888889        7\n",
              "3.333333        5\n",
              "1.428571        3\n",
              "0.400000        2\n",
              "2.400000        1\n",
              "0.222222        1\n",
              "6.000000        1\n",
              "2.333333        1\n",
              "0.571429        1\n",
              "0.200000        1\n",
              "Name: ratio, dtype: int64"
            ]
          },
          "metadata": {
            "tags": []
          },
          "execution_count": 18
        }
      ]
    },
    {
      "cell_type": "code",
      "metadata": {
        "id": "h-rNX-hmNAVg",
        "colab_type": "code",
        "colab": {}
      },
      "source": [
        ""
      ],
      "execution_count": 0,
      "outputs": []
    },
    {
      "cell_type": "code",
      "metadata": {
        "id": "e2JeYjbPNAg-",
        "colab_type": "code",
        "colab": {}
      },
      "source": [
        ""
      ],
      "execution_count": 0,
      "outputs": []
    },
    {
      "cell_type": "code",
      "metadata": {
        "id": "1C6Pik6ZNAeR",
        "colab_type": "code",
        "colab": {}
      },
      "source": [
        ""
      ],
      "execution_count": 0,
      "outputs": []
    },
    {
      "cell_type": "code",
      "metadata": {
        "id": "VCtmr-uZA5Wn",
        "colab_type": "code",
        "colab": {}
      },
      "source": [
        "# # drop na values\n",
        "# df = df.dropna(axis=0, subset=['ratio'])\n",
        "# df.isnull().sum() "
      ],
      "execution_count": 0,
      "outputs": []
    },
    {
      "cell_type": "code",
      "metadata": {
        "id": "F7HULSjshg58",
        "colab_type": "code",
        "colab": {
          "base_uri": "https://localhost:8080/",
          "height": 187
        },
        "outputId": "c7929212-c463-414c-b9fd-8b0bbd09402e"
      },
      "source": [
        "# check the ratio column\n",
        "df.columns"
      ],
      "execution_count": 20,
      "outputs": [
        {
          "output_type": "execute_result",
          "data": {
            "text/plain": [
              "Index(['bathrooms', 'bedrooms', 'created', 'description', 'display_address',\n",
              "       'latitude', 'longitude', 'price', 'street_address', 'interest_level',\n",
              "       'elevator', 'cats_allowed', 'hardwood_floors', 'dogs_allowed',\n",
              "       'doorman', 'dishwasher', 'no_fee', 'laundry_in_building',\n",
              "       'fitness_center', 'pre-war', 'laundry_in_unit', 'roof_deck',\n",
              "       'outdoor_space', 'dining_room', 'high_speed_internet', 'balcony',\n",
              "       'swimming_pool', 'new_construction', 'terrace', 'exclusive', 'loft',\n",
              "       'garden_patio', 'wheelchair_access', 'common_outdoor_space', 'month',\n",
              "       'rooms', 'ratio'],\n",
              "      dtype='object')"
            ]
          },
          "metadata": {
            "tags": []
          },
          "execution_count": 20
        }
      ]
    },
    {
      "cell_type": "code",
      "metadata": {
        "id": "akaroP5VQonE",
        "colab_type": "code",
        "colab": {}
      },
      "source": [
        ""
      ],
      "execution_count": 0,
      "outputs": []
    },
    {
      "cell_type": "code",
      "metadata": {
        "id": "wqUtCtutQovt",
        "colab_type": "code",
        "colab": {}
      },
      "source": [
        ""
      ],
      "execution_count": 0,
      "outputs": []
    },
    {
      "cell_type": "code",
      "metadata": {
        "id": "tsWX6ZryQohg",
        "colab_type": "code",
        "colab": {}
      },
      "source": [
        ""
      ],
      "execution_count": 0,
      "outputs": []
    },
    {
      "cell_type": "code",
      "metadata": {
        "id": "rYUBaZWChhB8",
        "colab_type": "code",
        "colab": {}
      },
      "source": [
        "# create test(June 2016) & train data(April & May 2016)\n",
        "train= df.query('month <= 5')\n",
        "test = df.query('month == 6')"
      ],
      "execution_count": 0,
      "outputs": []
    },
    {
      "cell_type": "markdown",
      "metadata": {
        "id": "1COTx0nrmQc2",
        "colab_type": "text"
      },
      "source": [
        " Fit a linear regression model with at least two features."
      ]
    },
    {
      "cell_type": "code",
      "metadata": {
        "id": "jsJV5xMrhhRx",
        "colab_type": "code",
        "colab": {}
      },
      "source": [
        "# 1. Import the appropriate estimator class from Scikit-Learn\n",
        "from sklearn.linear_model import LinearRegression"
      ],
      "execution_count": 0,
      "outputs": []
    },
    {
      "cell_type": "code",
      "metadata": {
        "id": "TFzwiIjnhheL",
        "colab_type": "code",
        "colab": {}
      },
      "source": [
        "# 2. Instantiate this class\n",
        "model = LinearRegression()"
      ],
      "execution_count": 0,
      "outputs": []
    },
    {
      "cell_type": "code",
      "metadata": {
        "id": "Cokkwd29hiGN",
        "colab_type": "code",
        "colab": {
          "base_uri": "https://localhost:8080/",
          "height": 85
        },
        "outputId": "7ea036af-079e-4aa3-b290-6f25ec302fce"
      },
      "source": [
        "# 3. Arrange X features matrices & y target\n",
        "features = ['rooms','ratio']\n",
        "print(f'Linear Regression ,dependent on :{features}')\n",
        "X_train = train[features]\n",
        "X_test = test[features]\n",
        "print(X_train.shape, X_test.shape)\n",
        "\n",
        "# y target\n",
        "target = 'price' \n",
        "y_train = train[target]\n",
        "y_test = test[target]\n",
        "print(f'Linear Regression ,dependent on: {features}')\n",
        "print(X_train.shape,X_test.shape)\n"
      ],
      "execution_count": 24,
      "outputs": [
        {
          "output_type": "stream",
          "text": [
            "Linear Regression ,dependent on :['rooms', 'ratio']\n",
            "(31844, 2) (16973, 2)\n",
            "Linear Regression ,dependent on: ['rooms', 'ratio']\n",
            "(31844, 2) (16973, 2)\n"
          ],
          "name": "stdout"
        }
      ]
    },
    {
      "cell_type": "code",
      "metadata": {
        "id": "-UcgCRdnJjan",
        "colab_type": "code",
        "colab": {
          "base_uri": "https://localhost:8080/",
          "height": 221
        },
        "outputId": "c1dbeab2-175d-4c07-96dc-3ab2fb757398"
      },
      "source": [
        "X_train['ratio'].sort_values(ascending=True)"
      ],
      "execution_count": 25,
      "outputs": [
        {
          "output_type": "execute_result",
          "data": {
            "text/plain": [
              "31484    0.0\n",
              "6187     0.0\n",
              "33254    0.0\n",
              "41104    0.0\n",
              "33253    0.0\n",
              "        ... \n",
              "29780    5.0\n",
              "8000     5.0\n",
              "428      5.0\n",
              "45164    5.0\n",
              "34324    6.0\n",
              "Name: ratio, Length: 31844, dtype: float64"
            ]
          },
          "metadata": {
            "tags": []
          },
          "execution_count": 25
        }
      ]
    },
    {
      "cell_type": "code",
      "metadata": {
        "id": "FYr7zQvNJj22",
        "colab_type": "code",
        "colab": {
          "base_uri": "https://localhost:8080/",
          "height": 221
        },
        "outputId": "99894985-07a0-4797-cc8a-749164db44c4"
      },
      "source": [
        "df['bathrooms'].value_counts()"
      ],
      "execution_count": 26,
      "outputs": [
        {
          "output_type": "execute_result",
          "data": {
            "text/plain": [
              "1.0     39152\n",
              "2.0      7619\n",
              "3.0       680\n",
              "1.5       645\n",
              "0.0       304\n",
              "2.5       256\n",
              "4.0        93\n",
              "3.5        55\n",
              "4.5         8\n",
              "5.0         4\n",
              "10.0        1\n",
              "Name: bathrooms, dtype: int64"
            ]
          },
          "metadata": {
            "tags": []
          },
          "execution_count": 26
        }
      ]
    },
    {
      "cell_type": "code",
      "metadata": {
        "id": "azrqHGjOJkA1",
        "colab_type": "code",
        "colab": {
          "base_uri": "https://localhost:8080/",
          "height": 187
        },
        "outputId": "7569a2fa-2a01-4ba2-982f-050bf731a693"
      },
      "source": [
        "df['bedrooms'].value_counts()"
      ],
      "execution_count": 27,
      "outputs": [
        {
          "output_type": "execute_result",
          "data": {
            "text/plain": [
              "1.0    15651\n",
              "2.0    14569\n",
              "0.0     9317\n",
              "3.0     7188\n",
              "4.0     1825\n",
              "5.0      221\n",
              "6.0       43\n",
              "8.0        2\n",
              "7.0        1\n",
              "Name: bedrooms, dtype: int64"
            ]
          },
          "metadata": {
            "tags": []
          },
          "execution_count": 27
        }
      ]
    },
    {
      "cell_type": "code",
      "metadata": {
        "id": "zjjzrJmChiMn",
        "colab_type": "code",
        "colab": {
          "base_uri": "https://localhost:8080/",
          "height": 34
        },
        "outputId": "e1de4625-f334-4425-b9c5-60fa025347c2"
      },
      "source": [
        "# import \n",
        "from sklearn.metrics import mean_absolute_error\n",
        "# 4. Fit the model \n",
        "model.fit(X_train,y_train)\n",
        "# train error\n",
        "y_pred = model.predict(X_train)\n",
        "mae = mean_absolute_error(y_train,y_pred)\n",
        "print(f'Train Error:$ {mae:.2f}  ')\n",
        "\n"
      ],
      "execution_count": 28,
      "outputs": [
        {
          "output_type": "stream",
          "text": [
            "Train Error:$ 826.02  \n"
          ],
          "name": "stdout"
        }
      ]
    },
    {
      "cell_type": "code",
      "metadata": {
        "id": "urOzB1K-hiVa",
        "colab_type": "code",
        "colab": {
          "base_uri": "https://localhost:8080/",
          "height": 34
        },
        "outputId": "2ae2c24e-4aa3-405c-8c49-3c939dc346ae"
      },
      "source": [
        "# 5. Apply the model to new data\n",
        "# test error\n",
        "y_pred = model.predict(X_test)\n",
        "mae = mean_absolute_error(y_test, y_pred)\n",
        "print(f'Test Error:$ {mae:.2f} ')"
      ],
      "execution_count": 29,
      "outputs": [
        {
          "output_type": "stream",
          "text": [
            "Test Error:$ 832.25 \n"
          ],
          "name": "stdout"
        }
      ]
    },
    {
      "cell_type": "code",
      "metadata": {
        "id": "gq-ywES2hhbP",
        "colab_type": "code",
        "colab": {}
      },
      "source": [
        ""
      ],
      "execution_count": 0,
      "outputs": []
    },
    {
      "cell_type": "markdown",
      "metadata": {
        "id": "iqNgo3XeugGX",
        "colab_type": "text"
      },
      "source": [
        "### **Get the model's coefficients and intercept.**"
      ]
    },
    {
      "cell_type": "code",
      "metadata": {
        "id": "0_BpU7tdhhZY",
        "colab_type": "code",
        "colab": {
          "base_uri": "https://localhost:8080/",
          "height": 34
        },
        "outputId": "b95cb241-41db-4dc0-b8b8-f371c852a051"
      },
      "source": [
        "model.intercept_,model.coef_"
      ],
      "execution_count": 30,
      "outputs": [
        {
          "output_type": "execute_result",
          "data": {
            "text/plain": [
              "(1460.4820854964014, array([1130.13528575, -776.35640613]))"
            ]
          },
          "metadata": {
            "tags": []
          },
          "execution_count": 30
        }
      ]
    },
    {
      "cell_type": "code",
      "metadata": {
        "id": "yZ6eptI1hhXn",
        "colab_type": "code",
        "colab": {
          "base_uri": "https://localhost:8080/",
          "height": 34
        },
        "outputId": "82a6ad4a-9abd-49ab-de84-d364e0d2f8ce"
      },
      "source": [
        "# equation for the model\n",
        "\n",
        "beta0 =model.intercept_\n",
        "beta1,beta2 = model.coef_\n",
        "print(f'y = {beta0} + {beta1}x1 + {beta2}x2')"
      ],
      "execution_count": 33,
      "outputs": [
        {
          "output_type": "stream",
          "text": [
            "y = 1460.4820854964014 + 1130.1352857542017x1 + -776.3564061252885x2\n"
          ],
          "name": "stdout"
        }
      ]
    },
    {
      "cell_type": "code",
      "metadata": {
        "id": "RIO32A5NhhOe",
        "colab_type": "code",
        "colab": {
          "base_uri": "https://localhost:8080/",
          "height": 68
        },
        "outputId": "bb931610-c5ef-48be-9bcc-8d30e2c5f25d"
      },
      "source": [
        "# model coedfficients & intercept\n",
        "\n",
        "print('Intercept', model.intercept_)\n",
        "coefficients = pd.Series(model.coef_ , features)\n",
        "print(coefficients.to_string())"
      ],
      "execution_count": 34,
      "outputs": [
        {
          "output_type": "stream",
          "text": [
            "Intercept 1460.4820854964014\n",
            "rooms    1130.135286\n",
            "ratio    -776.356406\n"
          ],
          "name": "stdout"
        }
      ]
    },
    {
      "cell_type": "code",
      "metadata": {
        "id": "A80olI2ohhKT",
        "colab_type": "code",
        "colab": {}
      },
      "source": [
        ""
      ],
      "execution_count": 0,
      "outputs": []
    },
    {
      "cell_type": "markdown",
      "metadata": {
        "id": "2mKpMykE1IFQ",
        "colab_type": "text"
      },
      "source": [
        "# **Get regression metrics RMSE, MAE, and  𝑅2 , for both the train and test data**"
      ]
    },
    {
      "cell_type": "code",
      "metadata": {
        "id": "hguFvkD9hhId",
        "colab_type": "code",
        "colab": {
          "base_uri": "https://localhost:8080/",
          "height": 85
        },
        "outputId": "69badb0f-1abc-4174-8f33-eb6d64d0635d"
      },
      "source": [
        "# regression for train metrices\n",
        "from sklearn.metrics import mean_absolute_error, mean_squared_error, r2_score\n",
        "\n",
        "\n",
        "y_pred = model.predict(X_train)\n",
        "mse = mean_squared_error(y_train, y_pred) #Mean sqaured error\n",
        "rmse = np.sqrt(mse) #root mean squared Error\n",
        "mae = mean_absolute_error(y_train, y_pred) #mean absolute Error\n",
        "r2 = r2_score(y_train, y_pred)\n",
        "\n",
        "#  print RMSE,MAE , R2\n",
        "print('Mean squared error:',mse)\n",
        "print('root mean squared error',rmse)\n",
        "print('mean absolute error:',mae)\n",
        "print('R^2',r2)\n",
        "\n",
        "  "
      ],
      "execution_count": 43,
      "outputs": [
        {
          "output_type": "stream",
          "text": [
            "Mean squared error: 1540592.0195382172\n",
            "root mean squared error 1241.2058731484544\n",
            "mean absolute error: 826.0239929058141\n",
            "R^2 0.5038396074273039\n"
          ],
          "name": "stdout"
        }
      ]
    },
    {
      "cell_type": "code",
      "metadata": {
        "id": "fg6mzRKwhg_s",
        "colab_type": "code",
        "colab": {
          "base_uri": "https://localhost:8080/",
          "height": 85
        },
        "outputId": "144519fb-e1a3-41bb-aa89-96957655baff"
      },
      "source": [
        "# regression for test metrices\n",
        "\n",
        "y_pred = model.predict(X_test)\n",
        "mse = mean_squared_error(y_test, y_pred) #Mean sqaured error\n",
        "rmse = np.sqrt(mse) #root mean squared Error\n",
        "mae = mean_absolute_error(y_test, y_pred) #mean absolute Error\n",
        "r2 = r2_score(y_test, y_pred)\n",
        "\n",
        "#  print RMSE,MAE , R2\n",
        "print('Mean squared error:',mse)\n",
        "print('root mean squared error',rmse)\n",
        "print('mean absolute error:',mae)\n",
        "print('R^2',r2)\n",
        "\n",
        "  \n",
        "  "
      ],
      "execution_count": 45,
      "outputs": [
        {
          "output_type": "stream",
          "text": [
            "Mean squared error: 1515639.4763700743\n",
            "root mean squared error 1231.11310462121\n",
            "mean absolute error: 832.2514945352539\n",
            "R^2 0.5123458478077657\n"
          ],
          "name": "stdout"
        }
      ]
    }
  ]
}